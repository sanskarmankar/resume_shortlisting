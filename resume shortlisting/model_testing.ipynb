{
 "cells": [
  {
   "cell_type": "code",
   "execution_count": 3,
   "metadata": {},
   "outputs": [
    {
     "name": "stderr",
     "output_type": "stream",
     "text": [
      "c:\\Python311\\Lib\\site-packages\\sklearn\\preprocessing\\_label.py:99: DataConversionWarning: A column-vector y was passed when a 1d array was expected. Please change the shape of y to (n_samples, ), for example using ravel().\n",
      "  y = column_or_1d(y, warn=True)\n",
      "c:\\Python311\\Lib\\site-packages\\sklearn\\preprocessing\\_label.py:134: DataConversionWarning: A column-vector y was passed when a 1d array was expected. Please change the shape of y to (n_samples, ), for example using ravel().\n",
      "  y = column_or_1d(y, dtype=self.classes_.dtype, warn=True)\n"
     ]
    },
    {
     "data": {
      "text/plain": [
       "array([24, 24, 24, ..., 24, 24, 24])"
      ]
     },
     "execution_count": 3,
     "metadata": {},
     "output_type": "execute_result"
    }
   ],
   "source": [
    "import pandas as pd\n",
    "import numpy as np\n",
    "df = pd.read_csv('Applications_for_Machine_Learning_internship_edited.csv')\n",
    "from sklearn.preprocessing import LabelEncoder\n",
    "lb=LabelEncoder()\n",
    "lb.fit(df[['Are you available for 3 months, starting immediately, for a full-time work from home internship? ']])\n",
    "lb.classes_ = np.append(lb.classes_, 'unknown')\n",
    "lb.transform(df[['Are you available for 3 months, starting immediately, for a full-time work from home internship? ']])"
   ]
  },
  {
   "cell_type": "code",
   "execution_count": 4,
   "metadata": {},
   "outputs": [],
   "source": [
    "\n",
    "\n",
    "def calculate_match_percentage(keyword, text):\n",
    "    keyword_words = keyword.lower().split()\n",
    "    text_words = str(text).lower().split()  # Convert text to string\n",
    "    match_count = sum(any(keyword in word for word in text_words) for keyword in keyword_words)\n",
    "    match_percentage = (match_count / len(keyword_words)) * 100\n",
    "    return match_percentage\n",
    "\n",
    "def match_keywords(keywords, data):\n",
    "    results = []\n",
    "    for text in data:\n",
    "        total_keywords = len(keywords)\n",
    "        total_match_percentage = 0\n",
    "        for keyword in keywords:\n",
    "            match_percentage = calculate_match_percentage(keyword, text)\n",
    "            total_match_percentage += match_percentage\n",
    "        overall_match_percentage = total_match_percentage / total_keywords\n",
    "        results.append(overall_match_percentage)\n",
    "    return results\n",
    "\n",
    "# Load data from CSV\n",
    "data = pd.read_csv('Applications_for_Machine_Learning_internship_edited.csv')\n",
    "\n",
    "# Example usage\n",
    "keyword_list = ['data science', 'python', 'machine learning', 'programming']\n",
    "overall_match_percentages = match_keywords(keyword_list, data['Other skills'])\n",
    "\n",
    "# Add the overall match percentages to the data DataFrame\n",
    "data['Overall Match Percentage'] = overall_match_percentages\n",
    "\n",
    "# Delete rows with overall match percentage < 75%\n",
    "data = data[data['Overall Match Percentage'] >= 75]\n",
    "\n",
    "# Save the updated data to a new CSV file\n",
    "data.to_csv('updated_file1.csv', index=False)\n"
   ]
  },
  {
   "cell_type": "code",
   "execution_count": 5,
   "metadata": {},
   "outputs": [],
   "source": [
    "import pandas as pd\n",
    "\n",
    "# Load data from CSV\n",
    "data = pd.read_csv('updated_file1.csv')\n",
    "\n",
    "# Define the three columns\n",
    "columns_to_check = ['Python (out of 3)', 'Natural Language Processing (NLP) (out of 3)', 'Deep Learning (out of 3)']\n",
    "\n",
    "# Find rows containing numeric data less than 1\n",
    "rows_to_delete = data[\n",
    "    (data['Python (out of 3)'].astype(float) < 1) |\n",
    "    (data['Machine Learning (out of 3)'].astype(float) < 1) |\n",
    "    (data['Natural Language Processing (NLP) (out of 3)'].astype(float) < 1) |\n",
    "    (data['Deep Learning (out of 3)'].astype(float) < 1)\n",
    "]\n",
    "\n",
    "# Delete the rows containing numeric data less than 1\n",
    "data = data.drop(rows_to_delete.index)\n",
    "\n",
    "# Save the updated data to a new CSV file\n",
    "data.to_csv('updated_file2.csv', index=False)\n"
   ]
  },
  {
   "cell_type": "code",
   "execution_count": 6,
   "metadata": {},
   "outputs": [],
   "source": [
    "import pandas as pd\n",
    "\n",
    "# Load data from CSV\n",
    "dr = pd.read_csv('updated_file2.csv')\n",
    "\n",
    "# Filter rows where the specific column is not equal to 24\n",
    "filterd_data = dr[dr['Are you available for 3 months, starting immediately, for a full-time work from home internship? '] == 24].reset_index(drop=True)\n",
    "\n",
    "# Save the updated data to a new CSV file\n",
    "filterd_data.to_csv('updated_file3.csv', index=False)\n"
   ]
  }
 ],
 "metadata": {
  "kernelspec": {
   "display_name": "Python 3",
   "language": "python",
   "name": "python3"
  },
  "language_info": {
   "codemirror_mode": {
    "name": "ipython",
    "version": 3
   },
   "file_extension": ".py",
   "mimetype": "text/x-python",
   "name": "python",
   "nbconvert_exporter": "python",
   "pygments_lexer": "ipython3",
   "version": "3.11.0"
  },
  "orig_nbformat": 4
 },
 "nbformat": 4,
 "nbformat_minor": 2
}
